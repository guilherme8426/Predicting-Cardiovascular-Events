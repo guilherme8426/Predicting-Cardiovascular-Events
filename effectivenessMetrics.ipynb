{
 "cells": [
  {
   "cell_type": "code",
   "execution_count": null,
   "metadata": {},
   "outputs": [],
   "source": [
    "from sklearn.metrics import f1_score, precision_recall_fscore_support, roc_curve, auc\n",
    "from sklearn.model_selection import StratifiedKFold\n",
    "from sklearn.metrics import roc_curve, auc\n",
    "import matplotlib.pyplot as plt\n",
    "from scipy.stats import norm\n",
    "from variables import *\n",
    "import lightgbm as lgb\n",
    "import xgboost as xgb\n",
    "import pandas as pd\n",
    "import numpy as np"
   ]
  },
  {
   "cell_type": "markdown",
   "metadata": {},
   "source": [
    "# __Functions__"
   ]
  },
  {
   "cell_type": "code",
   "execution_count": 2,
   "metadata": {},
   "outputs": [],
   "source": [
    "def excludeOutcomes(df, Outcomes):\n",
    "    baseOutcomes = df.drop(columns=COLUMNS_TO_EXCLUDE_BY_OUTCOME[Outcomes]).copy()\n",
    "    baseOutcomes = baseOutcomes.drop(columns=['onda', 'dataadm', 'direto_cti']).copy()\n",
    "\n",
    "    baseOutcomes = baseOutcomes.dropna(subset=[Outcomes]).copy()\n",
    "\n",
    "    baseOutcomes[Outcomes] = baseOutcomes[Outcomes].astype(int).copy()\n",
    "\n",
    "    return baseOutcomes\n",
    "\n",
    "def IC_95(medidas):\n",
    "    media = np.mean(medidas)\n",
    "    erro_padrao = np.std(medidas, ddof=1) / np.sqrt(len(medidas))\n",
    "    intervalo = norm.ppf(0.975) * erro_padrao  # z-score para 95%\n",
    "\n",
    "    return f\"{media:.4f}({intervalo:.4f})\"\n",
    "\n",
    "def IC_95_percentage(medidas):\n",
    "    media = np.mean(medidas)*100\n",
    "    erro_padrao = np.std(medidas, ddof=1) / np.sqrt(len(medidas))*100\n",
    "    intervalo = norm.ppf(0.975) * erro_padrao  # z-score para 95%\n",
    "    \n",
    "    return f\"{media:.1f}({intervalo:.1f})\"\n",
    "\n",
    "def evaluateModel(y_true_folds, y_pred_folds, y_proba_folds, classes, modelo_nome):\n",
    "    \"\"\"Calculates mean metrics and confidence interval for the folds.\"\"\"\n",
    "    macro_f1s, micro_f1s, precisao_folds, recall_folds, f1_folds = [], [], [], [], []\n",
    "    \n",
    "    for y_true, y_pred in zip(y_true_folds, y_pred_folds):\n",
    "        macro_f1s.append(f1_score(y_true, y_pred, average=\"macro\"))\n",
    "        micro_f1s.append(f1_score(y_true, y_pred, average=\"micro\"))\n",
    "        prec, rec, f1, _ = precision_recall_fscore_support(y_true, y_pred, average=None, labels=classes, zero_division=0)\n",
    "        precisao_folds.append(prec)\n",
    "        recall_folds.append(rec)\n",
    "        f1_folds.append(f1)\n",
    "\n",
    "    precisao_folds = np.array(precisao_folds)\n",
    "    recall_folds = np.array(recall_folds)\n",
    "    f1_folds = np.array(f1_folds)\n",
    "\n",
    "    print(f\"{IC_95_percentage(macro_f1s)}\\t{IC_95_percentage(micro_f1s)}\",end=\"\\t\")\n",
    "\n",
    "    for i, c in enumerate(classes):\n",
    "        print(f\"{IC_95_percentage(precisao_folds[:, i])}\\t{IC_95_percentage(recall_folds[:, i])}\\t{IC_95_percentage(f1_folds[:, i])}\",end='\\t')\n",
    "\n",
    "    print()\n",
    "\n",
    "def trainModels(df, target_col, classificador):\n",
    "    \"\"\"Performs Stratified K-Fold, trains a classifier, and evaluates the metrics.\"\"\"\n",
    "    X = df.drop(columns=[target_col])\n",
    "    y = df[target_col]\n",
    "    classes = np.unique(y)\n",
    "\n",
    "    skf = StratifiedKFold(n_splits=5, shuffle=True, random_state=42)\n",
    "\n",
    "    y_true_folds, y_pred_folds, y_proba_folds = [], [], []\n",
    "\n",
    "    for train_idx, test_idx in skf.split(X, y):\n",
    "        X_train, X_test = X.iloc[train_idx], X.iloc[test_idx]\n",
    "        y_train, y_test = y.iloc[train_idx], y.iloc[test_idx]\n",
    "\n",
    "        if classificador == \"LightGBM\":\n",
    "            modelo = lgb.LGBMClassifier(random_state=42, verbose=-1)\n",
    "        else:\n",
    "            raise ValueError(\"The classifier should be 'LightGBM'.\")\n",
    "\n",
    "        modelo.fit(X_train, y_train)\n",
    "        y_pred = modelo.predict(X_test)\n",
    "        y_proba = modelo.predict_proba(X_test)\n",
    "\n",
    "        y_true_folds.append(y_test)\n",
    "        y_pred_folds.append(y_pred)\n",
    "        y_proba_folds.append(y_proba)\n",
    "\n",
    "    evaluateModel(y_true_folds, y_pred_folds, y_proba_folds, classes, classificador)\n",
    "\n",
    "def aurocMetric(df, target_col, classificador, onda, desfecho):\n",
    "    \"\"\"Runs K-Fold, trains the model, and evaluates the metrics with an ROC curve and confidence interval.\"\"\"\n",
    "    X = df.drop(columns=[target_col])\n",
    "    y = df[target_col]\n",
    "    classes = np.unique(y)\n",
    "\n",
    "    skf = StratifiedKFold(n_splits=5, shuffle=True, random_state=42)\n",
    "\n",
    "    y_true_folds, y_pred_folds, y_proba_folds = [], [], []\n",
    "    auc_list = []\n",
    "    fpr_all, tpr_all = [], []\n",
    "\n",
    "    for train_idx, test_idx in skf.split(X, y):\n",
    "        X_train, X_test = X.iloc[train_idx], X.iloc[test_idx]\n",
    "        y_train, y_test = y.iloc[train_idx], y.iloc[test_idx]\n",
    "\n",
    "        if classificador == \"LightGBM\":\n",
    "            modelo = lgb.LGBMClassifier(random_state=42, verbose=-1)\n",
    "        else:\n",
    "            raise ValueError(\"The classifier should be 'LightGBM'.\")\n",
    "        \n",
    "        modelo.fit(X_train, y_train)\n",
    "\n",
    "        y_pred = modelo.predict(X_test)\n",
    "        y_proba = modelo.predict_proba(X_test)[:, 1]\n",
    "\n",
    "        y_true_folds.append(y_test)\n",
    "        y_pred_folds.append(y_pred)\n",
    "        y_proba_folds.append(y_proba)\n",
    "\n",
    "        fpr, tpr, _ = roc_curve(y_test, y_proba)\n",
    "        auc_score = auc(fpr, tpr)\n",
    "        auc_list.append(auc_score)\n",
    "\n",
    "        fpr_all.append(fpr)\n",
    "        tpr_all.append(tpr)\n",
    "\n",
    "    print(f\"{IC_95(auc_list)}\")\n"
   ]
  },
  {
   "cell_type": "markdown",
   "metadata": {},
   "source": [
    "# __Outcome prediction__"
   ]
  },
  {
   "cell_type": "code",
   "execution_count": 3,
   "metadata": {},
   "outputs": [],
   "source": [
    "waves = ['Onda 2 e 3']\n",
    "outcomes = ['intercorrencia_3_5_6_13_16']\n",
    "classifier = \"LightGBM\""
   ]
  },
  {
   "cell_type": "markdown",
   "metadata": {},
   "source": [
    "## __with sociodemographic variables__"
   ]
  },
  {
   "cell_type": "code",
   "execution_count": 4,
   "metadata": {},
   "outputs": [
    {
     "name": "stdout",
     "output_type": "stream",
     "text": [
      "Number of patients: 16957\n",
      "Number of variables: 68\n"
     ]
    }
   ],
   "source": [
    "base_covid = pd.read_parquet(\"datasets/banco_completo_REGISTRO_COVID_28_08_processado_cardiopatia_sociodemographic.parquet\")\n",
    "\n",
    "nPacientes = base_covid.shape[0]\n",
    "nVariaveis = base_covid.shape[1]\n",
    "print(f\"Number of patients: {nPacientes}\\nNumber of variables: {nVariaveis}\")"
   ]
  },
  {
   "cell_type": "code",
   "execution_count": 5,
   "metadata": {},
   "outputs": [
    {
     "name": "stdout",
     "output_type": "stream",
     "text": [
      "Model\t#pacientes\t#variaveis\tMacroF1\tMicroF1\tprecision_0\trecall_0\tF1_0\tprecision_1\trecall_1\tF1_1\n",
      "sociodemographic\t10700\t60\t51.2(1.4)\t94.6(0.1)\t94.8(0.1)\t99.8(0.1)\t97.2(0.1)\t40.2(15.4)\t2.8(1.5)\t5.2(2.7)\t\n"
     ]
    }
   ],
   "source": [
    "\n",
    "print(f\"Model\\t#pacientes\\t#variaveis\\tMacroF1\\tMicroF1\\tprecision_0\\trecall_0\\tF1_0\\tprecision_1\\trecall_1\\tF1_1\")\n",
    "for wave in waves:\n",
    "    for outcome in outcomes:\n",
    "        if wave in ['Onda 2 e 3']:\n",
    "            df_wave = base_covid[base_covid['onda'].isin(['Onda 2', 'Onda 3'])].copy()\n",
    "\n",
    "        df_wave_outcome = excludeOutcomes(df_wave, outcome)\n",
    "        print(f\"sociodemographic\\t{df_wave_outcome.shape[0]}\\t{df_wave_outcome.shape[1]}\", end='\\t')\n",
    "\n",
    "        trainModels(df_wave_outcome, outcome, classifier)\n"
   ]
  },
  {
   "cell_type": "code",
   "execution_count": 6,
   "metadata": {},
   "outputs": [
    {
     "name": "stdout",
     "output_type": "stream",
     "text": [
      "Model\t#pacientes\t#variaveis\tAUROC\n",
      "sociodemographic\t10700\t60\t0.7601(0.0266)\n"
     ]
    }
   ],
   "source": [
    "\n",
    "print(f\"Model\\t#pacientes\\t#variaveis\\tAUROC\")\n",
    "for wave in waves:\n",
    "    for outcome in outcomes:\n",
    "        if wave in ['Onda 2 e 3']:\n",
    "            df_wave = base_covid[base_covid['onda'].isin(['Onda 2', 'Onda 3'])].copy()\n",
    "\n",
    "        df_wave_outcome = excludeOutcomes(df_wave, outcome)\n",
    "        print(f\"sociodemographic\\t{df_wave_outcome.shape[0]}\\t{df_wave_outcome.shape[1]}\", end='\\t')\n",
    "\n",
    "        aurocMetric(df_wave_outcome, outcome, classifier, wave, outcome)"
   ]
  },
  {
   "cell_type": "markdown",
   "metadata": {},
   "source": [
    "## __without sociodemographic variables__"
   ]
  },
  {
   "cell_type": "code",
   "execution_count": 7,
   "metadata": {},
   "outputs": [
    {
     "name": "stdout",
     "output_type": "stream",
     "text": [
      "Number of patients: 16957\n",
      "Number of variables: 61\n"
     ]
    }
   ],
   "source": [
    "base_covid = pd.read_parquet(\"datasets/banco_completo_REGISTRO_COVID_28_08_processado_cardiopatia_no_sociodemographic.parquet\")\n",
    "\n",
    "nPacientes = base_covid.shape[0]\n",
    "nVariaveis = base_covid.shape[1]\n",
    "print(f\"Number of patients: {nPacientes}\\nNumber of variables: {nVariaveis}\")"
   ]
  },
  {
   "cell_type": "code",
   "execution_count": 8,
   "metadata": {},
   "outputs": [
    {
     "name": "stdout",
     "output_type": "stream",
     "text": [
      "Model\t#pacientes\t#variaveis\tMacroF1\tMicroF1\tprecision_0\trecall_0\tF1_0\tprecision_1\trecall_1\tF1_1\n",
      "No sociodemographic\t10700\t53\t50.7(1.5)\t94.5(0.1)\t94.8(0.1)\t99.7(0.1)\t97.2(0.1)\t29.5(18.6)\t2.3(1.6)\t4.2(2.9)\t\n"
     ]
    }
   ],
   "source": [
    "\n",
    "print(f\"Model\\t#pacientes\\t#variaveis\\tMacroF1\\tMicroF1\\tprecision_0\\trecall_0\\tF1_0\\tprecision_1\\trecall_1\\tF1_1\")\n",
    "for wave in waves:\n",
    "    for outcome in outcomes:\n",
    "        if wave in ['Onda 2 e 3']:\n",
    "            df_wave = base_covid[base_covid['onda'].isin(['Onda 2', 'Onda 3'])].copy()\n",
    "\n",
    "        df_wave_outcome = excludeOutcomes(df_wave, outcome)\n",
    "        print(f\"No sociodemographic\\t{df_wave_outcome.shape[0]}\\t{df_wave_outcome.shape[1]}\", end='\\t')\n",
    "\n",
    "        trainModels(df_wave_outcome, outcome, classifier)\n"
   ]
  },
  {
   "cell_type": "code",
   "execution_count": 9,
   "metadata": {},
   "outputs": [
    {
     "name": "stdout",
     "output_type": "stream",
     "text": [
      "Model\t#pacientes\t#variaveis\tAUROC\n",
      "No sociodemographic\t10700\t53\t0.7527(0.0270)\n"
     ]
    }
   ],
   "source": [
    "\n",
    "print(f\"Model\\t#pacientes\\t#variaveis\\tAUROC\")\n",
    "for wave in waves:\n",
    "    for outcome in outcomes:\n",
    "        if wave in ['Onda 2 e 3']:\n",
    "            df_wave = base_covid[base_covid['onda'].isin(['Onda 2', 'Onda 3'])].copy()\n",
    "\n",
    "        df_wave_outcome = excludeOutcomes(df_wave, outcome)\n",
    "        print(f\"No sociodemographic\\t{df_wave_outcome.shape[0]}\\t{df_wave_outcome.shape[1]}\", end='\\t')\n",
    "\n",
    "        aurocMetric(df_wave_outcome, outcome, classifier, wave, outcome)"
   ]
  }
 ],
 "metadata": {
  "kernelspec": {
   "display_name": "Python 3",
   "language": "python",
   "name": "python3"
  },
  "language_info": {
   "codemirror_mode": {
    "name": "ipython",
    "version": 3
   },
   "file_extension": ".py",
   "mimetype": "text/x-python",
   "name": "python",
   "nbconvert_exporter": "python",
   "pygments_lexer": "ipython3",
   "version": "3.10.13"
  }
 },
 "nbformat": 4,
 "nbformat_minor": 2
}
