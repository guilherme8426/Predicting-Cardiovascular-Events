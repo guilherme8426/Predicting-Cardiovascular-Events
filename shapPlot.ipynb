{
 "cells": [
  {
   "cell_type": "code",
   "execution_count": 1,
   "metadata": {},
   "outputs": [
    {
     "name": "stderr",
     "output_type": "stream",
     "text": [
      "/home/guilherme/.pyenv/versions/3.10.13/lib/python3.10/site-packages/tqdm/auto.py:21: TqdmWarning: IProgress not found. Please update jupyter and ipywidgets. See https://ipywidgets.readthedocs.io/en/stable/user_install.html\n",
      "  from .autonotebook import tqdm as notebook_tqdm\n"
     ]
    }
   ],
   "source": [
    "from sklearn.model_selection import train_test_split\n",
    "import matplotlib.pyplot as plt\n",
    "from variables import *\n",
    "import lightgbm as lgb\n",
    "import pandas as pd\n",
    "import shap"
   ]
  },
  {
   "cell_type": "markdown",
   "metadata": {},
   "source": [
    "# __Functions__"
   ]
  },
  {
   "cell_type": "code",
   "execution_count": 2,
   "metadata": {},
   "outputs": [],
   "source": [
    "def excludeOutcomes(df, Outcomes):\n",
    "    baseOutcomes = df.drop(columns=COLUMNS_TO_EXCLUDE_BY_OUTCOME[Outcomes]).copy()\n",
    "    baseOutcomes = baseOutcomes.drop(columns=['onda', 'dataadm', 'direto_cti']).copy()\n",
    "\n",
    "    baseOutcomes = baseOutcomes.dropna(subset=[Outcomes]).copy()\n",
    "\n",
    "    baseOutcomes[Outcomes] = baseOutcomes[Outcomes].astype(int).copy()\n",
    "\n",
    "    return baseOutcomes\n",
    "\n",
    "def shapPlot(df, target_col, classifier, wave, outcome, sociodemographicVariables):\n",
    "    X = df.drop(columns=[target_col])\n",
    "    y = df[target_col]\n",
    "\n",
    "    X_train, X_test, y_train, y_test = train_test_split(X, y, test_size=0.2, stratify=y, random_state=42)\n",
    "\n",
    "    clf = lgb.LGBMClassifier(random_state=42, verbose=-1)\n",
    "    clf.fit(X_train, y_train)\n",
    "    explainer = shap.TreeExplainer(clf)\n",
    "    shapVals = explainer(X_test)\n",
    "\n",
    "    saveDir = ''\n",
    "    if sociodemographicVariables == True:\n",
    "        shapVals.feature_names = [VARIABLES_TO_RENAME_SOCIODEMOGRAPHIC.get(feat, feat) for feat in shapVals.feature_names]\n",
    "        saveDir = f\"graph/sociodemographic/shap_{classifier}_{wave}_{outcome}_sociodemographic.png\"\n",
    "    else:\n",
    "        shapVals.feature_names = [VARIABLES_TO_RENAME_NO_SOCIODEMOGRAPHIC.get(feat, feat) for feat in shapVals.feature_names]\n",
    "        saveDir = f\"graph/noSociodemographic/shap_{classifier}_{wave}_{outcome}_no_sociodemographic.png\"\n",
    "\n",
    "\n",
    "    plt.figure(figsize=(12,8))\n",
    "\n",
    "    ax = plt.gca()\n",
    "    shap.plots.beeswarm(shapVals, show=False)   \n",
    "\n",
    "    plt.tight_layout()\n",
    "\n",
    "    plt.savefig(saveDir, format='png') \n",
    "    plt.close() \n",
    "    plt.show()\n"
   ]
  },
  {
   "cell_type": "markdown",
   "metadata": {},
   "source": [
    "# __SHAP plot__"
   ]
  },
  {
   "cell_type": "code",
   "execution_count": 3,
   "metadata": {},
   "outputs": [],
   "source": [
    "waves = ['Onda 2 e 3']\n",
    "outcomes = ['intercorrencia_3_5_6_13_16']\n",
    "classifier = \"LightGBM\""
   ]
  },
  {
   "cell_type": "markdown",
   "metadata": {},
   "source": [
    "## __with sociodemographic variables__"
   ]
  },
  {
   "cell_type": "code",
   "execution_count": 4,
   "metadata": {},
   "outputs": [
    {
     "name": "stdout",
     "output_type": "stream",
     "text": [
      "Number of patients: 16957\n",
      "Number of variables: 68\n"
     ]
    }
   ],
   "source": [
    "base_covid = pd.read_parquet(\"datasets/banco_completo_REGISTRO_COVID_28_08_processado_cardiopatia_sociodemographic.parquet\")\n",
    "\n",
    "nPacientes = base_covid.shape[0]\n",
    "nVariaveis = base_covid.shape[1]\n",
    "print(f\"Number of patients: {nPacientes}\\nNumber of variables: {nVariaveis}\")"
   ]
  },
  {
   "cell_type": "code",
   "execution_count": 5,
   "metadata": {},
   "outputs": [],
   "source": [
    "for wave in waves:\n",
    "    for outcome in outcomes:\n",
    "        if wave in ['Onda 2 e 3']:\n",
    "            df_wave = base_covid[base_covid['onda'].isin(['Onda 2', 'Onda 3'])].copy()\n",
    "\n",
    "        df_wave_outcome = excludeOutcomes(df_wave, outcome)\n",
    "\n",
    "        shapPlot(df_wave_outcome, outcome, classifier, wave, outcome, True)\n"
   ]
  },
  {
   "cell_type": "markdown",
   "metadata": {},
   "source": [
    "## __without sociodemographic variables__"
   ]
  },
  {
   "cell_type": "code",
   "execution_count": 6,
   "metadata": {},
   "outputs": [
    {
     "name": "stdout",
     "output_type": "stream",
     "text": [
      "Number of patients: 16957\n",
      "Number of variables: 61\n"
     ]
    }
   ],
   "source": [
    "base_covid = pd.read_parquet(\"datasets/banco_completo_REGISTRO_COVID_28_08_processado_cardiopatia_no_sociodemographic.parquet\")\n",
    "\n",
    "nPacientes = base_covid.shape[0]\n",
    "nVariaveis = base_covid.shape[1]\n",
    "print(f\"Number of patients: {nPacientes}\\nNumber of variables: {nVariaveis}\")"
   ]
  },
  {
   "cell_type": "code",
   "execution_count": 7,
   "metadata": {},
   "outputs": [],
   "source": [
    "for wave in waves:\n",
    "    for outcome in outcomes:\n",
    "        if wave in ['Onda 2 e 3']:\n",
    "            df_wave = base_covid[base_covid['onda'].isin(['Onda 2', 'Onda 3'])].copy()\n",
    "\n",
    "        df_wave_outcome = excludeOutcomes(df_wave, outcome)\n",
    "\n",
    "        shapPlot(df_wave_outcome, outcome, classifier, wave, outcome, False)\n"
   ]
  }
 ],
 "metadata": {
  "kernelspec": {
   "display_name": "Python 3",
   "language": "python",
   "name": "python3"
  },
  "language_info": {
   "codemirror_mode": {
    "name": "ipython",
    "version": 3
   },
   "file_extension": ".py",
   "mimetype": "text/x-python",
   "name": "python",
   "nbconvert_exporter": "python",
   "pygments_lexer": "ipython3",
   "version": "3.10.13"
  }
 },
 "nbformat": 4,
 "nbformat_minor": 2
}
