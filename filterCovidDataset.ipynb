{
 "cells": [
  {
   "cell_type": "code",
   "execution_count": 1,
   "metadata": {},
   "outputs": [],
   "source": [
    "from datetime import datetime\n",
    "from pathlib import Path \n",
    "from variables import *\n",
    "from tqdm import tqdm\n",
    "import pandas as pd \n",
    "import argparse\n",
    "import os "
   ]
  },
  {
   "cell_type": "code",
   "execution_count": 2,
   "metadata": {},
   "outputs": [],
   "source": [
    "base_covid_fp = 'datasets/banco_completo_REGISTRO_COVID 28-08.xlsx'"
   ]
  },
  {
   "cell_type": "code",
   "execution_count": 3,
   "metadata": {},
   "outputs": [],
   "source": [
    "base_covid = pd.read_excel(base_covid_fp)\n",
    "base_covid_bak = base_covid.copy()"
   ]
  },
  {
   "cell_type": "markdown",
   "metadata": {},
   "source": [
    "# __Patient filters__"
   ]
  },
  {
   "cell_type": "markdown",
   "metadata": {},
   "source": [
    "## __Filtering age >= 18__\n",
    "\n",
    "Exclude 'idade' < 18"
   ]
  },
  {
   "cell_type": "code",
   "execution_count": 4,
   "metadata": {},
   "outputs": [
    {
     "name": "stdout",
     "output_type": "stream",
     "text": [
      "Number of patients before: 21558\n",
      "Number of patients after: 21284\n"
     ]
    }
   ],
   "source": [
    "n1 = base_covid.shape[0]\n",
    "base_covid = base_covid[base_covid.idade >= 18].copy()\n",
    "n2 = base_covid.shape[0]\n",
    "\n",
    "print(f\"Number of patients before: {n1}\\nNumber of patients after: {n2}\")"
   ]
  },
  {
   "cell_type": "code",
   "execution_count": 5,
   "metadata": {},
   "outputs": [
    {
     "data": {
      "text/plain": [
       "274"
      ]
     },
     "execution_count": 5,
     "metadata": {},
     "output_type": "execute_result"
    }
   ],
   "source": [
    "21558 - 21284"
   ]
  },
  {
   "cell_type": "markdown",
   "metadata": {},
   "source": [
    "## __Filtering pregnant patients__\n",
    "\n",
    "Exclude 'gestantes' = 1"
   ]
  },
  {
   "cell_type": "code",
   "execution_count": 6,
   "metadata": {},
   "outputs": [
    {
     "name": "stdout",
     "output_type": "stream",
     "text": [
      "Number of patients before: 21284\n",
      "Number of patients after: 20678\n"
     ]
    }
   ],
   "source": [
    "n1 = base_covid.shape[0]\n",
    "base_covid = base_covid[base_covid.gestante != 1].copy()\n",
    "n2 = base_covid.shape[0]\n",
    "\n",
    "print(f\"Number of patients before: {n1}\\nNumber of patients after: {n2}\")"
   ]
  },
  {
   "cell_type": "code",
   "execution_count": 7,
   "metadata": {},
   "outputs": [
    {
     "data": {
      "text/plain": [
       "606"
      ]
     },
     "execution_count": 7,
     "metadata": {},
     "output_type": "execute_result"
    }
   ],
   "source": [
    "21284 - 20678"
   ]
  },
  {
   "cell_type": "markdown",
   "metadata": {},
   "source": [
    "## __Filtering palliative patients__\n",
    "\n",
    "Exclude 'paliativos' = 1 \n",
    "\n",
    "Exclude 'paliativos_adm' = 1"
   ]
  },
  {
   "cell_type": "code",
   "execution_count": 8,
   "metadata": {},
   "outputs": [
    {
     "name": "stdout",
     "output_type": "stream",
     "text": [
      "Number of patients before: 20678\n",
      "Number of patients after: 19247\n"
     ]
    }
   ],
   "source": [
    "n1 = base_covid.shape[0]\n",
    "base_covid = base_covid[base_covid.paliativos != 1].copy()\n",
    "base_covid = base_covid[base_covid.paliativos_adm != 1].copy()\n",
    "n2 = base_covid.shape[0]\n",
    "\n",
    "print(f\"Number of patients before: {n1}\\nNumber of patients after: {n2}\")"
   ]
  },
  {
   "cell_type": "code",
   "execution_count": 9,
   "metadata": {},
   "outputs": [
    {
     "data": {
      "text/plain": [
       "1431"
      ]
     },
     "execution_count": 9,
     "metadata": {},
     "output_type": "execute_result"
    }
   ],
   "source": [
    "20678 - 19247"
   ]
  },
  {
   "cell_type": "markdown",
   "metadata": {},
   "source": [
    "## __Filtering patients who developed COVID during hospitalization__\n",
    "\n",
    "Exclude 'manifest_ih' = 1\n",
    "\n",
    "Exclude 'motivo_adm' = 2"
   ]
  },
  {
   "cell_type": "code",
   "execution_count": 10,
   "metadata": {},
   "outputs": [
    {
     "name": "stdout",
     "output_type": "stream",
     "text": [
      "Number of patients before: 19247\n",
      "Number of patients after: 17516\n"
     ]
    }
   ],
   "source": [
    "n1 = base_covid.shape[0]\n",
    "base_covid = base_covid[base_covid.manifest_ih != 1].copy()\n",
    "base_covid = base_covid[base_covid.motivo_adm != 2].copy()\n",
    "n2 = base_covid.shape[0]\n",
    "\n",
    "print(f\"Number of patients before: {n1}\\nNumber of patients after: {n2}\")"
   ]
  },
  {
   "cell_type": "code",
   "execution_count": 11,
   "metadata": {},
   "outputs": [
    {
     "data": {
      "text/plain": [
       "1731"
      ]
     },
     "execution_count": 11,
     "metadata": {},
     "output_type": "execute_result"
    }
   ],
   "source": [
    "19247 - 17516"
   ]
  },
  {
   "cell_type": "markdown",
   "metadata": {},
   "source": [
    "## __Filtering transfers to hospitals not participating in the study__\n",
    "\n",
    "Exclude ('transf_inst' = 1 OU 2) E 'idhosp_pcte_transf'=vazio\n",
    "\n",
    "Exclude 'transf' = 1 E 'idhosp_pcte_transf' = vazio"
   ]
  },
  {
   "cell_type": "code",
   "execution_count": 12,
   "metadata": {},
   "outputs": [
    {
     "name": "stdout",
     "output_type": "stream",
     "text": [
      "Number of patients before: 17516\n",
      "Number of patients after: 16957\n"
     ]
    }
   ],
   "source": [
    "n1 = base_covid.shape[0]\n",
    "base_covid = base_covid[~((base_covid.transf_inst.isin([1,2])) & \n",
    "                            (base_covid.idhosp_pcte_transf.isna()))].copy()\n",
    "base_covid = base_covid[~((base_covid.transf == 1) & \n",
    "                            (base_covid.idhosp_pcte_transf.isna()))].copy()\n",
    "n2 = base_covid.shape[0]\n",
    "\n",
    "print(f\"Number of patients before: {n1}\\nNumber of patients after: {n2}\")"
   ]
  },
  {
   "cell_type": "code",
   "execution_count": 13,
   "metadata": {},
   "outputs": [
    {
     "data": {
      "text/plain": [
       "559"
      ]
     },
     "execution_count": 13,
     "metadata": {},
     "output_type": "execute_result"
    }
   ],
   "source": [
    "17516 - 16957"
   ]
  },
  {
   "cell_type": "markdown",
   "metadata": {},
   "source": [
    "# __Filtrar colunas__"
   ]
  },
  {
   "cell_type": "code",
   "execution_count": 14,
   "metadata": {},
   "outputs": [],
   "source": [
    "base_covid_sociodemographic = base_covid[VARIABLES].copy()"
   ]
  },
  {
   "cell_type": "code",
   "execution_count": 15,
   "metadata": {},
   "outputs": [
    {
     "data": {
      "text/plain": [
       "71"
      ]
     },
     "execution_count": 15,
     "metadata": {},
     "output_type": "execute_result"
    }
   ],
   "source": [
    "base_covid_sociodemographic.columns.shape[0]"
   ]
  },
  {
   "cell_type": "code",
   "execution_count": 16,
   "metadata": {},
   "outputs": [
    {
     "name": "stdout",
     "output_type": "stream",
     "text": [
      "Number of columns before: 71\n",
      "Number of columns after: 67\n",
      "Columns removed: ['bb_total_adm_final', 'ferritina_adm_final', 'troponina_adm_final_prop', 'vacina_doses']\n"
     ]
    }
   ],
   "source": [
    "n1 = base_covid_sociodemographic.columns.shape[0]\n",
    "colunas1 = base_covid_sociodemographic.columns\n",
    "\n",
    "missingCounts = base_covid_sociodemographic.isna().mean(axis=0)\n",
    "over50PercentMissingFilter = missingCounts[missingCounts <= 0.5].copy()\n",
    "base_covid_sociodemographic = base_covid_sociodemographic.loc[:,over50PercentMissingFilter.index].copy()\n",
    "\n",
    "n2 = base_covid_sociodemographic.columns.shape[0]\n",
    "colunas2 = base_covid_sociodemographic.columns\n",
    "\n",
    "\n",
    "colunasRetiradas = [c for c in colunas1 if c not in colunas2]\n",
    "\n",
    "print(f\"Number of columns before: {n1}\\nNumber of columns after: {n2}\")\n",
    "print(f\"Columns removed: {colunasRetiradas}\")"
   ]
  },
  {
   "cell_type": "markdown",
   "metadata": {},
   "source": [
    "# __Create outcome variable__"
   ]
  },
  {
   "cell_type": "code",
   "execution_count": 17,
   "metadata": {},
   "outputs": [],
   "source": [
    "colsTotal = ['intercorrencia___13', 'intercorrencia___3', 'intercorrencia___16', 'intercorrencia___6', 'intercorrencia___5']\n",
    "\n",
    "base_covid_sociodemographic[\"intercorrencia_3_5_6_13_16\"] = (base_covid_sociodemographic[colsTotal]\n",
    "                                       .eq(1)\n",
    "                                       .any(axis=1)\n",
    "                                       .where(base_covid_sociodemographic[colsTotal].notna().any(axis=1)))\n"
   ]
  },
  {
   "cell_type": "markdown",
   "metadata": {},
   "source": [
    "# __Save dataset with sociodemographic variables__"
   ]
  },
  {
   "cell_type": "code",
   "execution_count": 18,
   "metadata": {},
   "outputs": [],
   "source": [
    "base_covid_sociodemographic.to_parquet(\"datasets/banco_completo_REGISTRO_COVID_28_08_processado_cardiopatia_sociodemographic.parquet\")"
   ]
  },
  {
   "cell_type": "markdown",
   "metadata": {},
   "source": [
    "# __save dataset without sociodemographic variables__"
   ]
  },
  {
   "cell_type": "code",
   "execution_count": 19,
   "metadata": {},
   "outputs": [],
   "source": [
    "base_covid_no_sociodemographic = base_covid_sociodemographic.drop(columns=SOCIODEMOGRAPHIC_VARIABLES).copy()\n",
    "base_covid_no_sociodemographic.to_parquet(\"datasets/banco_completo_REGISTRO_COVID_28_08_processado_cardiopatia_no_sociodemographic.parquet\")"
   ]
  }
 ],
 "metadata": {
  "kernelspec": {
   "display_name": "Python 3",
   "language": "python",
   "name": "python3"
  },
  "language_info": {
   "codemirror_mode": {
    "name": "ipython",
    "version": 3
   },
   "file_extension": ".py",
   "mimetype": "text/x-python",
   "name": "python",
   "nbconvert_exporter": "python",
   "pygments_lexer": "ipython3",
   "version": "3.10.13"
  }
 },
 "nbformat": 4,
 "nbformat_minor": 2
}
